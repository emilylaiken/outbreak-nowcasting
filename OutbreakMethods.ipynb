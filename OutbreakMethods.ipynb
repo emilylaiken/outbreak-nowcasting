{
 "cells": [
  {
   "cell_type": "code",
   "execution_count": 1,
   "metadata": {
    "collapsed": true
   },
   "outputs": [],
   "source": [
    "import numpy as np\n",
    "import pandas as pd\n",
    "import matplotlib.pyplot as plt\n",
    "import matplotlib.dates as mdates\n",
    "import seaborn as sns\n",
    "from sklearn.preprocessing import MinMaxScaler\n",
    "from sklearn.linear_model import LassoCV, LinearRegression\n",
    "from sklearn.metrics import mean_squared_error\n",
    "import warnings\n",
    "warnings.filterwarnings('ignore')\n",
    "plt.rcParams['font.family'] = 'Times New Roman'\n",
    "plt.rcParams['font.size'] = 16"
   ]
  },
  {
   "cell_type": "markdown",
   "metadata": {},
   "source": [
    "### I. Reusable functions for loading data and running models"
   ]
  },
  {
   "cell_type": "code",
   "execution_count": 2,
   "metadata": {
    "collapsed": true
   },
   "outputs": [],
   "source": [
    "'''\n",
    "Loads data for a single outbreak.\n",
    "Arguments: Two filenames for CSV files, the first for the reports CSV and the second for the trends CSV.\n",
    "Outputs: Two dataframes, one containing the reports and one containing the trends\n",
    "'''\n",
    "def load_data(reports_fname, trends_fname):\n",
    "    reports = pd.read_csv(reports_fname, index_col=0)\n",
    "    reports.index = pd.to_datetime(reports.index)\n",
    "    if 'Epi Week' in reports.columns:\n",
    "        reports = reports.drop('Epi Week', axis=1)\n",
    "    trends = pd.read_csv(trends_fname, index_col=0)\n",
    "    trends.index = pd.to_datetime(trends.index)\n",
    "    return reports, trends"
   ]
  },
  {
   "cell_type": "code",
   "execution_count": 3,
   "metadata": {
    "collapsed": true
   },
   "outputs": [],
   "source": [
    "'''\n",
    "Converts a time-series into a supervised learning problem.\n",
    "Inputs: Epidemiological timeseries (list/array/series), trends dataframe, list of autoregressive lags to be used as \n",
    "predictors\n",
    "Outputs: X, a matrix of predictors, and Y, a vector of targets\n",
    "'''\n",
    "# Convert timeseries to supervised learning problem\n",
    "def to_supervised(y, trends, lags, max_train):\n",
    "    if lags is not None:\n",
    "        xcols = []\n",
    "        for lag in lags:\n",
    "            xcols.append(y.shift(lag))\n",
    "        x = pd.concat(xcols, axis=1)\n",
    "        x.columns = ['lag_' + str(lag) for lag in lags]\n",
    "        nullrows = x[(pd.isnull(x).any(axis=1))].index\n",
    "        if trends is not None:\n",
    "            x = pd.merge(x, trends, on='date')\n",
    "        x = x.drop(nullrows, axis=0)\n",
    "        y = y.drop(nullrows, axis=0)\n",
    "    elif trends is not None:\n",
    "        x = trends   \n",
    "    return x, y"
   ]
  },
  {
   "cell_type": "code",
   "execution_count": 4,
   "metadata": {
    "collapsed": true
   },
   "outputs": [],
   "source": [
    "'''\n",
    "Performs train/test split on X and Y matrices.\n",
    "Inputs: X, a matrix of predictors, Y, a vector of targets, a list of dates in the training period, and a list of dates\n",
    "in the test period\n",
    "Outputs: X and Y matrices for each train and test periods\n",
    "'''\n",
    "def split(x, y, dates_train, dates_test):\n",
    "    min_train, max_train = dates_train\n",
    "    min_test, max_test = dates_test\n",
    "    x_train = x[(x.index >= min_train) & (x.index <= max_train)]\n",
    "    x_test = x[(x.index >= min_test) & (x.index <= max_test)]\n",
    "    y_train = y[(y.index >= min_train) & (y.index <= max_train)]\n",
    "    y_test = y[(y.index >= min_test) & (y.index <= max_test)]\n",
    "    return x_train, y_train, x_test, y_test"
   ]
  },
  {
   "cell_type": "code",
   "execution_count": 5,
   "metadata": {
    "collapsed": true
   },
   "outputs": [],
   "source": [
    "'''\n",
    "Given input data (epi timeseries and trends dataframe), a time horizon of prediction, and a set of prediction dates,\n",
    "use earlier dates to train model and then uses regression to predict for each of the prediction dates.\n",
    "'''\n",
    "def run(epi, trends, th, predict_dates, use_lags=True, use_trends=True, weekly=True):\n",
    "    min_predict_date, max_predict_date = predict_dates[0], predict_dates[1]\n",
    "    predictions = []\n",
    "    coefs = []\n",
    "    days_before = th*7 if weekly else th\n",
    "    if use_lags and use_trends:\n",
    "        x, y = to_supervised(epi, trends, [th], min_predict_date - pd.Timedelta(days=days_before))\n",
    "    elif use_trends and not use_lags:\n",
    "        x, y = to_supervised(epi, trends, None, min_predict_date - pd.Timedelta(days=days_before))\n",
    "    elif use_lags and not use_trends:\n",
    "        x, y = to_supervised(epi, None, [th], min_predict_date - pd.Timedelta(days=days_before))\n",
    "    x_train, y_train, x_test, y_test = split(x, y, (epi.index[0], min_predict_date - pd.Timedelta(days=days_before)), \n",
    "                                            (min_predict_date, max_predict_date))\n",
    "    lr = LassoCV(max_iter=100000)\n",
    "    lr.fit(x_train, y_train)\n",
    "    return predict_dates, lr.predict(x_test), lr.coef_"
   ]
  },
  {
   "cell_type": "code",
   "execution_count": 6,
   "metadata": {
    "collapsed": true
   },
   "outputs": [],
   "source": [
    "'''\n",
    "Give input data (reports dataframe and trends dataframe) and a time horizon of prediction, runs theoretical linear \n",
    "regression model using trends and ground truth time series from data frame.\n",
    "'''\n",
    "def run_model_theoretical(reports, trends, th, use_lags=True, use_trends=True, weekly=True):\n",
    "    epi = reports['groundtruth']\n",
    "    dates, yhats, coefs = [], [], []\n",
    "    predict_dates = epi.index[2*(th+1):] if weekly else epi.index[2*(7*(th+1)):]\n",
    "    for predict_date in predict_dates:\n",
    "        date, preds, coef = run(epi, trends, th, (predict_date, predict_date), use_lags, use_trends, weekly)\n",
    "        dates.append(date[0])\n",
    "        yhats.append(preds[0])\n",
    "        coefs.append(coef)\n",
    "    return predict_dates, yhats, coefs"
   ]
  },
  {
   "cell_type": "code",
   "execution_count": 7,
   "metadata": {
    "collapsed": true
   },
   "outputs": [],
   "source": [
    "'''\n",
    "Given input data (reports dataframe and trends dataframe) and a reporting delay (in weeks), runs linear regression \n",
    "model for each report, in each case predicting until the end of the next report\n",
    "'''\n",
    "def run_model_practical(reports, trends, delay, use_lags=True, use_trends=True, weekly=True):\n",
    "    reportids = reports.columns[:-1]\n",
    "    results = {reportid:{'dates':None, 'yhats':None} for reportid in reportids}\n",
    "    for r, reportid in enumerate(reportids):\n",
    "        next_reportid = reportids[r+1] if r < len(reportids) - 1 else None\n",
    "        epi = reports[reportid]\n",
    "        min_predict_date = epi.index[len(epi.dropna()) - delay]\n",
    "        max_predict_date = pd.to_datetime(next_reportid) if next_reportid is not None else epi.index[-1]\n",
    "        predict_dates = epi[(epi.index >= min_predict_date) & (epi.index <= max_predict_date)].index\n",
    "        dates, yhats = [], []\n",
    "        for i, predict_date in enumerate(predict_dates):\n",
    "            date, preds, _ = run(epi, trends, i+1, (predict_date, predict_date), use_lags, use_trends, weekly)\n",
    "            dates.append(date[0])\n",
    "            yhats.append(preds[0])\n",
    "        results[reportid]['dates'] = dates\n",
    "        results[reportid]['yhats'] = yhats\n",
    "        results[reportid]['dates_report'] = epi.index[:len(epi.dropna())]\n",
    "        results[reportid]['report'] = epi[:len(epi.dropna())]\n",
    "    return results"
   ]
  },
  {
   "cell_type": "markdown",
   "metadata": {},
   "source": [
    "### II. Run Models - Theoretical Version"
   ]
  },
  {
   "cell_type": "code",
   "execution_count": 8,
   "metadata": {
    "collapsed": true
   },
   "outputs": [],
   "source": [
    "def rmse(x, y):\n",
    "    return np.sqrt(mean_squared_error(x, y))"
   ]
  },
  {
   "cell_type": "code",
   "execution_count": 9,
   "metadata": {
    "collapsed": true
   },
   "outputs": [],
   "source": [
    "colors = {'AR':'#658E9C', 'GT':'#8CBA80', 'ARGO':'#CD5555'}\n",
    "models = ['AR', 'GT', 'ARGO']\n",
    "countries = ['angola', 'colombia', 'drc', 'madagascar', 'yemen']\n",
    "titles = ['Yellow Fever in Angola', 'Zika in Colombia', 'Ebola in the DRC', 'Pneumonic Plague in Madagascar', 'Cholera in Yemen']"
   ]
  },
  {
   "cell_type": "code",
   "execution_count": 61,
   "metadata": {
    "collapsed": true
   },
   "outputs": [],
   "source": [
    "'''\n",
    "Given country, plotting axes (optional), and time horizon, run theoretical models for time horizon and plot \n",
    "'''\n",
    "def run_all_theoretical(country, line_plot_ax, heatmap_ax, th, weekly=True, models = ['AR', 'GT', 'ARGO']):\n",
    "    reports, trends = load_data('data/'  + country + '/' + country + 'reports.csv', \n",
    "                                         'data/' + country + '/' + country + 'predictors.csv')\n",
    "    results = {model:{} for model in models}\n",
    "    # Get results for each model\n",
    "    for model in results.keys():\n",
    "        use_lags = False if model == 'GT' else True\n",
    "        use_trends = False if model == 'AR' else True\n",
    "        results[model]['dates'], yhats, results[model]['coefs'] = run_model_theoretical(reports, trends, th, \n",
    "                                                                                        use_lags, use_trends, weekly)\n",
    "        results[model]['corr'] = np.corrcoef(list(reports['groundtruth'].values)[-len(yhats):], yhats)[0][1]\n",
    "        results[model]['rmse'] = rmse(list(reports['groundtruth'].values)[-len(yhats):], yhats)\n",
    "        results[model]['yhats'] = yhats\n",
    "        results_series = reports[['groundtruth']]\n",
    "        results_series = results_series.merge(pd.DataFrame(results[model], index=results[model]['dates'])[['yhats']],\n",
    "                                            how='outer', left_index=True, right_index=True)\n",
    "        results_series = results_series.rename({'yhats':model}, axis='columns')\n",
    "        results_series.to_csv('results/' + country + '_' + str(th) + '.csv', index=False)\n",
    "    # Plot of predictions\n",
    "    if line_plot_ax is not None:\n",
    "        line_plot_ax.fill_between(reports.index, 0, reports['groundtruth'], color='lightgrey', label='Ground truth')\n",
    "        for model in results.keys():\n",
    "            line_plot_ax.plot(results[model]['dates'], results[model]['yhats'], color=colors[model], \n",
    "                              label = model + '', linewidth=3)#', corr = %.2f ' % results[model]['corr'], linewidth=3)\n",
    "        line_plot_ax.spines['right'].set_visible(False)\n",
    "        line_plot_ax.spines['top'].set_visible(False)\n",
    "        #line_plot_ax.legend(loc='best')\n",
    "        line_plot_ax.set_xlim(reports.index[0], reports.index[-1])\n",
    "        line_plot_ax.set_ylim(0, max(reports['groundtruth'])*1.3)\n",
    "    if heatmap_ax is not None:\n",
    "        coefs = results['ARGO']['coefs']\n",
    "        for i in range(len(reports.index) - len(yhats)):\n",
    "            to_add = np.zeros(len(results['ARGO']['coefs'][0]))\n",
    "            coefs = [to_add] + coefs\n",
    "        coefs = np.array(coefs).T\n",
    "        #mask = pd.DataFrame(coefs).isnull()\n",
    "        heatmap_ax.set_xlim(min(reports.index), max(reports.index))\n",
    "        sns.heatmap(coefs, cmap='RdBu_r', vmin=-1, vmax=1, ax=heatmap_ax, cbar=True)\n",
    "        heatmap_ax.tick_params(axis='x', which='both', bottom=False, top=False,labelbottom=False)\n",
    "        heatmap_ax.set_yticklabels(['Autoregressive term'] + list(trends.columns))\n",
    "        for tick in heatmap_ax.get_yticklabels():\n",
    "            tick.set_rotation(0)\n",
    "    return results"
   ]
  },
  {
   "cell_type": "code",
   "execution_count": 63,
   "metadata": {},
   "outputs": [
    {
     "name": "stdout",
     "output_type": "stream",
     "text": [
      "angola\n",
      "colombia\n",
      "drc\n",
      "madagascar\n",
      "yemen\n"
     ]
    }
   ],
   "source": [
    "'''\n",
    "Run theoretical models for each outbreak for time horizons 1 and 2. Save evaluations for heatmaps.\n",
    "'''\n",
    "ths = [2, 1]\n",
    "evaluations = {country:{} for country in countries}\n",
    "for c, country in enumerate(countries):\n",
    "    print(country)\n",
    "    if True:\n",
    "        df_corr = pd.DataFrame(index=models, columns=ths)\n",
    "        df_rmse = pd.DataFrame(index=models, columns=ths)\n",
    "        #fig, ax = plt.subplots(2, figsize=(20, 9))\n",
    "        for th in [2, 1]:\n",
    "            #a = ax[0] if th == 1 else ax[1]\n",
    "            fig, a = plt.subplots(1, figsize=(20, 5))\n",
    "            weekly = False if country == 'madagascar' else True\n",
    "            results = run_all_theoretical(country, a, None, th, weekly)\n",
    "            df_corr[th] = [results[model]['corr'] for model in models]\n",
    "            df_rmse[th] = [results[model]['rmse'] for model in models]\n",
    "            a.set_ylabel('Cases')\n",
    "            #a.set_title('Assuming Reporting Delay of ' + str(th) + ' Weeks')\n",
    "            a.set_title('Digital Epidemiological Modeling of ' + titles[c], fontsize='x-large')\n",
    "            a.legend(loc='best')\n",
    "            plt.tight_layout()\n",
    "            #plt.subplots_adjust(top=0.88)\n",
    "            #plt.suptitle('Digital Epidemiological Modeling of ' + titles[c], fontsize='x-large')\n",
    "            plt.savefig(country + '_' + str(th) + '.png')\n",
    "        #plt.savefig('newnewfigures/theoretical/' + country + '_both' + '.png')\n",
    "        evaluations[country]['corr'] = df_corr\n",
    "        evaluations[country]['rmse'] = df_rmse"
   ]
  },
  {
   "cell_type": "code",
   "execution_count": 12,
   "metadata": {},
   "outputs": [
    {
     "name": "stdout",
     "output_type": "stream",
     "text": [
      "angola\n",
      "colombia\n",
      "drc\n",
      "madagascar\n",
      "yemen\n"
     ]
    }
   ],
   "source": [
    "'''\n",
    "Figure 1 in paper\n",
    "'''\n",
    "ths = [2, 1]\n",
    "evaluations = {country:{} for country in countries}\n",
    "fig, ax = plt.subplots(5, 2, figsize=(20, 12), sharex=False, sharey=False)\n",
    "for c, country in enumerate(countries):\n",
    "    print(country)\n",
    "    df_corr = pd.DataFrame(index=models, columns=ths)\n",
    "    df_rmse = pd.DataFrame(index=models, columns=ths)\n",
    "    for th in [2, 1]:\n",
    "        a = ax[c][th-1]\n",
    "        weekly = False if country == 'madagascar' else True\n",
    "        results = run_all_theoretical(country, a, None, th, weekly)\n",
    "        df_corr[th] = [results[model]['corr'] for model in models]\n",
    "        df_rmse[th] = [results[model]['rmse'] for model in models]\n",
    "        months = mdates.MonthLocator()\n",
    "        months_format = mdates.DateFormatter('%b %y')\n",
    "        a.xaxis.set_major_locator(months)\n",
    "        a.xaxis.set_major_formatter(months_format)\n",
    "    evaluations[country]['corr'] = df_corr\n",
    "    evaluations[country]['rmse'] = df_rmse\n",
    "ax[0, 1].legend(loc='upper right', prop={'size': 10})\n",
    "ax[0, 0].set_ylabel('New Cases (Weekly)', size='small')\n",
    "ax[1, 0].set_ylabel('New Cases (Weekly)', size='small')\n",
    "ax[2, 0].set_ylabel('New Cases (Weekly)', size='small')\n",
    "ax[3, 0].set_ylabel('New Cases (Daily)', size='small')\n",
    "ax[4, 0].set_ylabel('New Cases (Weekly)', size='small')\n",
    "for i in range(5):\n",
    "    ax[i, 1].get_yaxis().set_visible(False)\n",
    "plt.tight_layout(h_pad=2, rect=[0, 0, 1, 0.97])\n",
    "plt.figtext(0.5, 0.962, 'Yellow Fever in Angola', ha='center', va='center', size='medium')\n",
    "plt.figtext(0.5, 0.77, 'Zika in Colombia', ha='center', va='center', size='medium')\n",
    "plt.figtext(0.5, 0.572, 'Ebola in the DRC', ha='center', va='center', size='medium')\n",
    "plt.figtext(0.5, 0.38, 'Plague in Madagascar', ha='center', va='center', size='medium')\n",
    "plt.figtext(0.5, 0.19, 'Cholera in Yemen', ha='center', va='center', size='medium')\n",
    "plt.figtext(0.25, 0.98, 'Assuming reporting delay of 1 week', ha='center', va='center', size='large')\n",
    "plt.figtext(0.75, 0.98, 'Assuming reporting delay of 2 weeks', ha='center', va='center', size='large')\n",
    "#plt.figtext(0.01, 0.99, 'a', ha='center', va='center', size='large', weight='bold')\n",
    "plt.savefig('results1_part1.png')"
   ]
  },
  {
   "cell_type": "code",
   "execution_count": 35,
   "metadata": {},
   "outputs": [
    {
     "data": {
      "text/plain": [
       "{'angola': {'corr':              2         1\n",
       "  AR    0.537874  0.878984\n",
       "  GT    0.796699  0.789052\n",
       "  ARGO  0.688780  0.881781, 'rmse':               2          1\n",
       "  AR    62.650579  17.597337\n",
       "  GT    17.633600  17.658728\n",
       "  ARGO  20.420224  13.217858}, 'colombia': {'corr':              2         1\n",
       "  AR    0.778537  0.920216\n",
       "  GT    0.727812  0.780606\n",
       "  ARGO  0.819780  0.929856, 'rmse':                 2           1\n",
       "  AR    1176.744826  644.237268\n",
       "  GT    1072.013798  997.450605\n",
       "  ARGO   823.338520  542.392854}, 'drc': {'corr':              2         1\n",
       "  AR    0.190784  0.573803\n",
       "  GT    0.497807  0.581774\n",
       "  ARGO  0.170057  0.580719, 'rmse':               2          1\n",
       "  AR    28.108858  15.252126\n",
       "  GT    18.130043  16.980575\n",
       "  ARGO  27.413349  15.246174}, 'madagascar': {'corr':              2         1\n",
       "  AR    0.876100  0.912609\n",
       "  GT    0.675649  0.740227\n",
       "  ARGO  0.842592  0.922090, 'rmse':               2          1\n",
       "  AR    11.648131   8.451411\n",
       "  GT    15.379634  13.605132\n",
       "  ARGO  11.850719   7.966380}, 'yemen': {'corr':              2         1\n",
       "  AR    0.931306  0.984577\n",
       "  GT    0.585842  0.653590\n",
       "  ARGO  0.942728  0.985786, 'rmse':                  2             1\n",
       "  AR     9156.567026   4224.877355\n",
       "  GT    19486.672277  18532.219816\n",
       "  ARGO   8497.430266   3973.057336}}"
      ]
     },
     "execution_count": 35,
     "metadata": {},
     "output_type": "execute_result"
    }
   ],
   "source": [
    "# Print evaluation metrics for latex table in paper\n",
    "evaluations"
   ]
  },
  {
   "cell_type": "code",
   "execution_count": 13,
   "metadata": {},
   "outputs": [
    {
     "data": {
      "text/plain": [
       "\"\\nSummary heatmaps of model performances across models, outbreaks, and time horizons\\n\\nfig, ax = plt.subplots(2, 4, figsize=(20, 5))\\nfor c, country in enumerate(countries):\\n    sns.heatmap(evaluations[country]['corr'].T, ax=ax[0, c], cmap='Blues')\\n    sns.heatmap(evaluations[country]['rmse'].T, ax=ax[1, c], cmap='Greens_r')\\n    ax[0, c].set_title(titles[c] + ' - corr', size='medium')\\n    ax[1, c].set_title(titles[c] + ' - RMSE', size='medium')\\nax[0, 0].set_ylabel('Delay (Weeks)')\\nax[1, 0].set_ylabel('Delay (Weeks)')\\nplt.tight_layout()\\nplt.subplots_adjust(top=0.83)\\nplt.suptitle('Performance of Models Across Outbreaks and Reporting Delays', fontsize='large')\\nplt.figtext(0.01, 0.96, 'b', ha='center', va='center', size='large', weight='bold')\\nplt.savefig('results1_part2.png')\\n\""
      ]
     },
     "execution_count": 13,
     "metadata": {},
     "output_type": "execute_result"
    }
   ],
   "source": [
    "'''\n",
    "Summary heatmaps of model performances across models, outbreaks, and time horizons\n",
    "\n",
    "fig, ax = plt.subplots(2, 4, figsize=(20, 5))\n",
    "for c, country in enumerate(countries):\n",
    "    sns.heatmap(evaluations[country]['corr'].T, ax=ax[0, c], cmap='Blues')\n",
    "    sns.heatmap(evaluations[country]['rmse'].T, ax=ax[1, c], cmap='Greens_r')\n",
    "    ax[0, c].set_title(titles[c] + ' - corr', size='medium')\n",
    "    ax[1, c].set_title(titles[c] + ' - RMSE', size='medium')\n",
    "ax[0, 0].set_ylabel('Delay (Weeks)')\n",
    "ax[1, 0].set_ylabel('Delay (Weeks)')\n",
    "plt.tight_layout()\n",
    "plt.subplots_adjust(top=0.83)\n",
    "plt.suptitle('Performance of Models Across Outbreaks and Reporting Delays', fontsize='large')\n",
    "plt.figtext(0.01, 0.96, 'b', ha='center', va='center', size='large', weight='bold')\n",
    "plt.savefig('results1_part2.png')\n",
    "'''"
   ]
  },
  {
   "cell_type": "code",
   "execution_count": 25,
   "metadata": {},
   "outputs": [
    {
     "name": "stdout",
     "output_type": "stream",
     "text": [
      "angola\n",
      "colombia\n",
      "drc\n",
      "madagascar\n"
     ]
    }
   ],
   "source": [
    "'''\n",
    "Figures with ARGO predictions and heatmaps of predictor importances\n",
    "'''\n",
    "plt.rcParams['font.size'] = 16\n",
    "height_ratios = [[6, 1], [1, 1], [4, 1], [3, 2]]\n",
    "figsizes = [9, 10, 4, 6]\n",
    "for c, country in enumerate(countries):\n",
    "    print(country)\n",
    "    for th in [2, 1]:\n",
    "        fig, ax = plt.subplots(2, figsize=(20, figsizes[c]), gridspec_kw = {'height_ratios':height_ratios[c]})\n",
    "        weekly = False if country == 'madagascar' else True\n",
    "        results = run_all_theoretical(country, ax[0], ax[1], th, weekly, ['ARGO'])\n",
    "        plt.tight_layout()\n",
    "        plt.subplots_adjust(top=0.93)\n",
    "        #plt.suptitle('Coefficient Analysis for ARGO model: ' + titles[c], fontsize='large')\n",
    "        plt.suptitle('Assuming Reporting Delay of ' + str(th) + ' Weeks', fontsize='x-large')\n",
    "        ax[0].set_ylabel('Cases')\n",
    "        plt.savefig('newnewfigures/coef_analysis/cbar' + country + str(th) + '.png')\n",
    "        #if country == 'madagascar' and th == 1:\n",
    "        #    plt.suptitle('Feature Importances for Nowcasting Plague in Madagascar with ARGO (Assuming One Week Reporting Delay)', size='x-large')\n",
    "        #    plt.savefig('newnewfigures/coef_analysis/' + country + str(th) + 'maintext.png')\n",
    "        "
   ]
  },
  {
   "cell_type": "markdown",
   "metadata": {},
   "source": [
    "### III. Run Models - Practical Version"
   ]
  },
  {
   "cell_type": "code",
   "execution_count": 14,
   "metadata": {
    "collapsed": true
   },
   "outputs": [],
   "source": [
    "plt.rcParams['font.size'] = 20"
   ]
  },
  {
   "cell_type": "code",
   "execution_count": 37,
   "metadata": {
    "collapsed": true
   },
   "outputs": [],
   "source": [
    "def run_all_practical(country, ax, reportids):\n",
    "    reports, trends = load_data('data/'  + country + '/' + country + 'reports.csv', \n",
    "                                'data/' + country + '/' + country + 'predictors.csv')\n",
    "    for m, model in enumerate(models):\n",
    "        use_lags = False if model == 'GT' else True\n",
    "        use_trends = False if model == 'AR' else True\n",
    "        delay = 14 if country == 'madagascar' else 2\n",
    "        weekly = False if country == 'madagascar' else True\n",
    "        results = run_model_practical(reports, trends, delay, use_lags=use_lags, use_trends=use_trends, weekly=weekly)\n",
    "        all_reportids = [x for x in results.keys() if x != 'groundtruth']\n",
    "        i = 0\n",
    "        for r, reportid in enumerate(all_reportids):\n",
    "            if reportid in reportids:\n",
    "            #if reportid in ['5/8/16', '5/15/16', '5/23/16', '5/30/16', '6/6/16']:\n",
    "            #if reportid in ['2/24/16', '4/14/16', '5/5/16', '5/12/16', '5/19/16']:\n",
    "            #if reportid in ['9/7/18', '9/14/18', '11/29/18', '9/27/18', '10/11/18']:\n",
    "            #if reportid in ['10/13/17', '10/18/17', '11/6/17', '11/14/17', '11/20/17']:\n",
    "            #if reportid in ['10/5/17', '10/16/17', '11/9/17']:\n",
    "            #if reportid in ['2/24/16', '4/14/16', '5/19/16']:\n",
    "            #if i < 5:\n",
    "            #if reportid in ['10/5/17', '10/16/17', '11/9/17']:\n",
    "            #if reportid in ['9/7/18', '11/29/18', '12/28/18']:\n",
    "                if m == 0:\n",
    "                    ax[i].fill_between(reports.index, 0, reports['groundtruth'], color='lightgrey', label='Ground Truth')\n",
    "                    ax[i].plot(results[reportid]['dates_report'], results[reportid]['report'], color='black', \n",
    "                              label='Reported Epi Curve', linewidth=3)\n",
    "                    ax[i].axvline(pd.to_datetime(reportid), dashes=[2, 2], color='black', label='Report Released', linewidth=4)\n",
    "                    if i != len(all_reportids) - 1:\n",
    "                        ax[i].axvline(pd.to_datetime(all_reportids[r+1]), dashes=[2, 2], color='gold', \n",
    "                                     label='Next Report Released', linewidth=3)\n",
    "                    ax[i].set_title('Report Released ' + reportid, size='medium')\n",
    "                    ax[i].set_xlim(reports.index[0], reports.index[-1])\n",
    "                    ax[i].set_ylim(0, 1.3*max(reports['groundtruth']))\n",
    "                    ax[i].spines['right'].set_visible(False)\n",
    "                    ax[i].spines['top'].set_visible(False)\n",
    "                    months = mdates.MonthLocator()\n",
    "                    months_format = mdates.DateFormatter('%b %y')\n",
    "                    ax[i].xaxis.set_major_locator(months)\n",
    "                    ax[i].xaxis.set_major_formatter(months_format)\n",
    "                dates_ext = results[reportid]['dates']\n",
    "                yhats_ext = results[reportid]['yhats']\n",
    "                dates_ext = [results[reportid]['dates_report'][-(delay + 1)]] + list(results[reportid]['dates'])\n",
    "                yhats_ext = [results[reportid]['report'][-(delay + 1)]] + list(results[reportid]['yhats'])\n",
    "                ax[i].plot(dates_ext, yhats_ext, color=colors[model], label=model, linewidth=3)\n",
    "                i = i + 1;\n",
    "    #ax[0].legend(loc='best')\n",
    "    #plt.tight_layout()\n",
    "    #plt.subplots_adjust(top=top)\n",
    "    #plt.suptitle('Digital Epidemiological Models vs. Reported Values - ' + titles[countries.index(country)], \n",
    "    #            fontsize=30)\n",
    "    #plt.savefig('newnewfigures/practical/' + country + '_medselection.png')"
   ]
  },
  {
   "cell_type": "code",
   "execution_count": 64,
   "metadata": {},
   "outputs": [
    {
     "name": "stdout",
     "output_type": "stream",
     "text": [
      "angola\n",
      "colombia\n",
      "drc\n",
      "madagascar\n",
      "yemen\n"
     ]
    }
   ],
   "source": [
    "# Figure 3 in paper\n",
    "fig, ax = plt.subplots(9, 2, figsize=(20, 18))\n",
    "print('angola')\n",
    "run_all_practical('angola', ax[:3, 0], ['5/8/16', '5/23/16', '6/6/16'])\n",
    "print('colombia')\n",
    "run_all_practical('colombia', ax[:3, 1], ['2/24/16', '4/14/16', '5/19/16'])\n",
    "print('drc')\n",
    "run_all_practical('drc', ax[3:6, 0], ['9/7/18', '11/29/18', '12/28/18'])\n",
    "print('madagascar')\n",
    "run_all_practical('madagascar', ax[3:6, 1], ['10/5/17', '10/16/17', '11/9/17'])\n",
    "print('yemen')\n",
    "run_all_practical('yemen', ax[6:, 0], ['9/3/17', '10/1/17', '11/5/17'])\n",
    "ax[0, 1].legend(loc='upper right', prop={'size':10})\n",
    "for a in [ax[0, 0], ax[1, 0], ax[3, 0], ax[4, 0], ax[0, 1], ax[1, 1], ax[3, 1], ax[4, 1], ax[6, 0], ax[7, 0]]:\n",
    "    a.get_xaxis().set_visible(False)\n",
    "plt.tight_layout(rect=[0, 0.04, 1, 0.98])\n",
    "for a in [ax[3, 0], ax[4, 0], ax[5, 0], ax[3, 1], ax[4, 1], ax[5, 1], ax[6, 0], ax[7, 0], ax[8, 0]]:\n",
    "    pos1 = a.get_position() \n",
    "    pos2 = [pos1.x0, pos1.y0-0.02,  pos1.width, pos1.height] \n",
    "    a.set_position(pos2) \n",
    "for a in [ax[6, 0], ax[7, 0], ax[8, 0]]:\n",
    "    pos1 = a.get_position() \n",
    "    pos2 = [pos1.x0, pos1.y0-0.02,  pos1.width, pos1.height] \n",
    "    a.set_position(pos2) \n",
    "for a in [ax[6, 1], ax[7, 1], ax[8, 1]]:\n",
    "    fig.delaxes(a)\n",
    "plt.figtext(0.27, 0.973, 'Yellow Fever in Angola', ha='center', va='center', size='large')\n",
    "plt.figtext(0.76, 0.973, 'Zika in Colombia', ha='center', va='center', size='large')\n",
    "plt.figtext(0.27, 0.645, 'Ebola in the DRC', ha='center', va='center', size='large')\n",
    "plt.figtext(0.76, 0.645, 'Plague in Madagascar', ha='center', va='center', size='large')\n",
    "plt.figtext(0.27, 0.32, 'Cholera in Yemen', ha='center', va='center', size='large')\n",
    "plt.savefig('results3.png')"
   ]
  },
  {
   "cell_type": "code",
   "execution_count": null,
   "metadata": {
    "collapsed": true
   },
   "outputs": [],
   "source": []
  },
  {
   "cell_type": "code",
   "execution_count": 41,
   "metadata": {
    "collapsed": true
   },
   "outputs": [],
   "source": [
    "fig, ax = plt.subplots(12, figsize=(20, 30))\n",
    "run_all_practical('yemen', ax, [x for x in pd.read_csv('data/yemen/yemenreports.csv').columns if '/' in x])\n",
    "ax[0].legend(loc='best')\n",
    "plt.tight_layout()\n",
    "plt.savefig('yemenreports.png')"
   ]
  },
  {
   "cell_type": "code",
   "execution_count": 26,
   "metadata": {},
   "outputs": [
    {
     "name": "stdout",
     "output_type": "stream",
     "text": [
      "angola\n",
      "colombia\n"
     ]
    }
   ],
   "source": [
    "#figsizes = [(20, 35), (20, 20), (20, 55), (20, 40)]\n",
    "tops = [0.95, 0.93, 0.96, 0.95]\n",
    "for c, country in enumerate(['angola', 'colombia']):\n",
    "    print(country)\n",
    "    run_all_practical(country, (20, 20), 0.92)"
   ]
  },
  {
   "cell_type": "code",
   "execution_count": 27,
   "metadata": {
    "collapsed": true
   },
   "outputs": [],
   "source": [
    "run_all_practical('drc', (20, 11), 0.86)"
   ]
  },
  {
   "cell_type": "markdown",
   "metadata": {},
   "source": [
    "### IV. Old code that I'm not deleting"
   ]
  },
  {
   "cell_type": "code",
   "execution_count": null,
   "metadata": {
    "collapsed": true
   },
   "outputs": [],
   "source": [
    "def reshaping(reports, trends, reportid, term):\n",
    "    epi = reports[reportid]\n",
    "    trend = trends[term]\n",
    "    total_cases = np.sum(epi)\n",
    "    factor = total_cases/np.sum(trend)\n",
    "    return factor*trend"
   ]
  },
  {
   "cell_type": "code",
   "execution_count": null,
   "metadata": {
    "collapsed": true
   },
   "outputs": [],
   "source": [
    "def run_all_reshaping(reports, trends, term):\n",
    "    reportids = [col for col in reports.columns if col != 'groundtruth']\n",
    "    results = pd.DataFrame(index=reports.index)\n",
    "    for reportid in reportids:\n",
    "        reshaped = reshaping(reports, trends, reportid, term)\n",
    "        results[reportid] = list(reshaped.values) + [np.nan for i in range(len(results.index) - len(reshaped))]\n",
    "    return results"
   ]
  },
  {
   "cell_type": "code",
   "execution_count": null,
   "metadata": {
    "collapsed": true
   },
   "outputs": [],
   "source": [
    "def mae(ytrue, yhat, lims):\n",
    "    ytrue = ytrue[lims[0]:lims[1]]\n",
    "    yhat = yhat[lims[0]:lims[1]]\n",
    "    errors = [np.abs(ytrue[i] - yhat[i]) for i in range(len(ytrue)) if np.isfinite(ytrue[i]) and np.isfinite(yhat[i])]\n",
    "    return np.mean(errors)"
   ]
  },
  {
   "cell_type": "code",
   "execution_count": null,
   "metadata": {
    "collapsed": true
   },
   "outputs": [],
   "source": [
    "def plot_errors(ax, reports, models, labels, colors):\n",
    "    reportids = [col for col in reports.columns if col != 'groundtruth']\n",
    "    x = np.arange(len(reportids))\n",
    "    width = 0.2\n",
    "    errors_reports = []\n",
    "    for m, model in enumerate(models):\n",
    "        errors = []\n",
    "        for r, reportid in enumerate(reportids):\n",
    "            start = np.argwhere(np.isfinite(model[reportid])).flatten()[0]\n",
    "            end = np.argwhere(np.isfinite(reports[reportid])).flatten()[-1] + 1\n",
    "            if r > 1:\n",
    "                errors.append(mae(reports['groundtruth'], model[reportid], (start, end)))\n",
    "            else:\n",
    "                errors.append(np.nan)\n",
    "            if m == 0:\n",
    "                errors_reports.append(mae(reports['groundtruth'], reports[reportid], (start, end)))\n",
    "        ax.bar(x + (m+1)*width, errors, width, label=labels[m], color=colors[m])\n",
    "    ax.bar(x, errors_reports, width, label='Reported Cases', color='grey')\n",
    "    ax.set_xticklabels(reportids)"
   ]
  },
  {
   "cell_type": "code",
   "execution_count": 21,
   "metadata": {
    "collapsed": true
   },
   "outputs": [],
   "source": [
    "from sklearn.preprocessing import MinMaxScaler\n",
    "import matplotlib.dates as mdates\n",
    "def eda(ax, reports_fname, predictors_fname, predictor, labels, title, color):\n",
    "    reports, predictors = load_data(reports_fname, predictors_fname)\n",
    "    scaler = MinMaxScaler()\n",
    "    scaled_groundtruth = scaler.fit_transform(reports['groundtruth'].values.reshape(-1, 1)).flatten()\n",
    "    scaled_searches = scaler.fit_transform(predictors[predictor].values.reshape(-1, 1)).flatten()\n",
    "    corr = np.corrcoef(scaled_groundtruth, scaled_searches)[0][1]\n",
    "    ax.fill_between(reports.index, 0, scaled_groundtruth, color='lightgrey', label=labels[0])\n",
    "    ax.plot(predictors.index, scaled_searches, color=color, label=labels[1], linewidth=4)\n",
    "    #ax.fill_between(reports.index, 0, reports['groundtruth'], color='lightgrey', label=labels[0])\n",
    "    ax.legend(loc='upper right')\n",
    "    ax.set_ylim(0, 1.4)\n",
    "    #ax.set_ylim(0, 1.4*max(reports['groundtruth']))\n",
    "    months = mdates.MonthLocator()\n",
    "    months_format = mdates.DateFormatter('%b %y')\n",
    "    ax.xaxis.set_major_locator(months)\n",
    "    ax.xaxis.set_major_formatter(months_format)\n",
    "    ax.text(0.01, 0.93, 'corr = %.2f' % corr, transform = ax.transAxes)\n",
    "    ax.set_title(title)\n",
    "    ax.spines['right'].set_visible(False)\n",
    "    ax.spines['top'].set_visible(False)"
   ]
  },
  {
   "cell_type": "code",
   "execution_count": 30,
   "metadata": {
    "collapsed": true
   },
   "outputs": [],
   "source": [
    "fig, ax = plt.subplots(1, figsize=(20, 5))\n",
    "eda(ax, 'data/yemen/yemenreports.csv', 'data/yemen/yemenpredictors.csv', 'cholera', ('Cases of Cholera in Yemen (scaled to range [0, 1])', \"Searches for 'cholera' in Yemen (scaled to range [0, 1])\"), 'Cholera in Yemen', 'blue')\n",
    "plt.tight_layout()\n",
    "plt.savefig('yemeneda.png')"
   ]
  },
  {
   "cell_type": "code",
   "execution_count": 34,
   "metadata": {},
   "outputs": [],
   "source": [
    "# EDA\n",
    "plt.rcParams['font.size'] = 17\n",
    "colors = ['orange', 'mediumseagreen', 'royalblue', 'salmon', 'purple']\n",
    "fig, ax = plt.subplots(3, 2, figsize=(20, 12))\n",
    "ax = ax.flatten()\n",
    "eda(ax[0], 'data/angola/angolareports.csv', 'data/angola/angolapredictors.csv', 'yellow fever', ('Confirmed cases of yellow fever in Angola (scaled to range [0, 1])', \"Searches for 'yellow fever' in Angola (scaled to range [0, 1])\"), 'Yellow Fever in Angola', colors[0])\n",
    "eda(ax[1], 'data/colombia/colombiareports.csv', 'data/colombia/colombiapredictors.csv', 'zika', ('Suspected cases of Zika in Colombia (scaled to range [0, 1])', \"Searches for 'zika' in Colombia (scaled to range [0, 1])\"), \n",
    "    'Zika in Colombia', colors[1])\n",
    "eda(ax[2], 'data/drc/drcreports.csv', 'data/drc/drcpredictors.csv', 'ebola', ('Suspected cases of Ebola in the DRC (scaled to range [0, 1])', \"Searches for 'ebola' in the DRC (scaled to range [0, 1])\"), 'Ebola in the DRC', colors[2])\n",
    "eda(ax[3], 'data/madagascar/madagascarreports.csv', 'data/madagascar/madagascarpredictors.csv', 'peste', ('Confirmed cases of Plague in Madagascar (scaled to range [0, 1])', \"Searches for 'peste' in Madagascar (scaled to range [0, 1])\"), 'Plague in Madagascar', colors[3])\n",
    "eda(ax[4], 'data/yemen/yemenreports.csv', 'data/yemen/yemenpredictors.csv', 'cholera', ('Suspected cases of Cholera in Yemen (scaled to range [0, 1])', \"Searches for 'cholera' in Yemen (scaled to range [0, 1])\"), 'Cholera in Yemen', colors[4])\n",
    "ax[0].set_ylabel('Cases')\n",
    "plt.tight_layout()\n",
    "fig.delaxes(ax[5])\n",
    "plt.savefig('eda_2.png')"
   ]
  },
  {
   "cell_type": "code",
   "execution_count": 62,
   "metadata": {
    "collapsed": true
   },
   "outputs": [],
   "source": [
    "months = mdates.MonthLocator()\n",
    "months_format = mdates.DateFormatter('%b %y')\n",
    "plt.rcParams['font.size'] = 20\n",
    "fig, ax = plt.subplots(1, figsize=(20, 5))\n",
    "reports, _ = load_data('data/madagascar/madagascarreports.csv', 'data/madagascar/madagascarpredictors.csv')\n",
    "ax.fill_between(reports.index, 0, reports['groundtruth'], color='lightgrey', label='Suspected cases by date of symptoms onset as of Dec. 4')\n",
    "ax.plot(reports.index, reports['10/13/17'], color='black', label='Suspected cases by date of symptoms onset as of Oct. 13', linewidth=4)\n",
    "ax.set_ylim(0, 1.1*max(reports['groundtruth']))\n",
    "months = mdates.MonthLocator()\n",
    "months_format = mdates.DateFormatter('%b %y')\n",
    "ax.xaxis.set_major_locator(months)\n",
    "ax.xaxis.set_major_formatter(months_format)\n",
    "ax.spines['right'].set_visible(False)\n",
    "ax.spines['top'].set_visible(False)\n",
    "ax.legend(loc='center left')\n",
    "ax.set_title('Plague in Madagascar, September - November 2017')\n",
    "ax.set_ylabel('New Cases')\n",
    "plt.tight_layout()\n",
    "plt.savefig('newnewfigures/madagascar_2')"
   ]
  },
  {
   "cell_type": "code",
   "execution_count": null,
   "metadata": {
    "collapsed": true
   },
   "outputs": [],
   "source": []
  }
 ],
 "metadata": {
  "kernelspec": {
   "display_name": "Python 3",
   "language": "python",
   "name": "python3"
  },
  "language_info": {
   "codemirror_mode": {
    "name": "ipython",
    "version": 3
   },
   "file_extension": ".py",
   "mimetype": "text/x-python",
   "name": "python",
   "nbconvert_exporter": "python",
   "pygments_lexer": "ipython3",
   "version": "3.6.2"
  }
 },
 "nbformat": 4,
 "nbformat_minor": 2
}
